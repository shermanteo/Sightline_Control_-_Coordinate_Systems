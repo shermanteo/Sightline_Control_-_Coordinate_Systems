{
 "cells": [
  {
   "cell_type": "markdown",
   "id": "41082daa-a23b-46bf-806e-be1f02e48943",
   "metadata": {},
   "source": [
    "# Rotation Matrix to Quaternions"
   ]
  },
  {
   "cell_type": "markdown",
   "id": "8a3a5be0-32d5-4833-aed0-785a2584579d",
   "metadata": {},
   "source": [
    "## Description: Converting the rotation matrix to quaternions\n",
    "\n",
    "A quaternion is represented by four elements: q0+iq1+jq2+kq3, where q0, q1, q2 and q3 are real numbers, and i, j and k are mutually orthogonal imaginary unit vectors\n",
    "\n",
    "### Input Parameters: \n",
    "\n",
    "Rotation Matrix which is provided that can be converted to quaternions using 2 steps. \n",
    "\n",
    "Step 1: Find the magnitude of each quaternion component. This leaves the sign of each component undefined. \n",
    "\n",
    "Step 2: To Resolve the signs, find the largest of q0, q1, q2, q3 and assume its sign is positive. Then compute the remaining components as shown in the table below. Taking the largest magnitude avoids division by small numbers, which would reduce numerical accuracy.\n",
    "\n",
    "\n",
    "### Output Parameters:\n",
    "\n",
    "q0 = q0 term is referred to as the \"real\" component\n",
    "\n",
    "q1 = q1 term is referred to as the \"imaginary\" component\n",
    "\n",
    "q2 = q2 term is referred to as the \"imaginary\" component\n",
    "\n",
    "q3 = q3 term is referred to as the \"imaginary\" component"
   ]
  },
  {
   "cell_type": "code",
   "execution_count": null,
   "id": "385d2142-66b6-4ff6-a11f-cc3e2dd4946e",
   "metadata": {},
   "outputs": [],
   "source": [
    "import numpy as np\n",
    "\n",
    "def rotation_matrix_to_quaternion(R):\n",
    "    \n",
    "    q0 = np.sqrt((1 + R[0, 0] + R[1, 1] + R[2, 2]) / 4)\n",
    "    q1 = np.sqrt((1 + R[0, 0] - R[1, 1] - R[2, 2]) / 4)\n",
    "    q2 = np.sqrt((1 - R[0, 0] + R[1, 1] - R[2, 2]) / 4)\n",
    "    q3 = np.sqrt((1 - R[0, 0] - R[1, 1] + R[2, 2]) / 4)\n",
    "\n",
    "    # Resolve signs using the component with the largest magnitude\n",
    "    max_q = max(q0, q1, q2, q3)\n",
    "\n",
    "    if max_q == q0:\n",
    "        q1 = (R[2, 1] - R[1, 2]) / (4 * q0)\n",
    "        q2 = (R[0, 2] - R[2, 0]) / (4 * q0)\n",
    "        q3 = (R[1, 0] - R[0, 1]) / (4 * q0)\n",
    "    elif max_q == q1:\n",
    "        q0 = (R[2, 1] - R[1, 2]) / (4 * q1)\n",
    "        q2 = (R[0, 1] + R[1, 0]) / (4 * q1)\n",
    "        q3 = (R[0, 2] + R[2, 0]) / (4 * q1)\n",
    "    elif max_q == q2:\n",
    "        q0 = (R[0, 2] - R[2, 0]) / (4 * q2)\n",
    "        q1 = (R[0, 1] + R[1, 0]) / (4 * q2)\n",
    "        q3 = (R[1, 2] + R[2, 1]) / (4 * q2)\n",
    "    else:  # max_q == q3\n",
    "        q0 = (R[1, 0] - R[0, 1]) / (4 * q3)\n",
    "        q1 = (R[0, 2] + R[2, 0]) / (4 * q3)\n",
    "        q2 = (R[1, 2] + R[2, 1]) / (4 * q3)\n",
    "        q3 = max_q  # Assign after computing others to avoid overwriting\n",
    "\n",
    "    return (q0, q1, q2, q3)"
   ]
  }
 ],
 "metadata": {
  "kernelspec": {
   "display_name": "Python 3 (ipykernel)",
   "language": "python",
   "name": "python3"
  },
  "language_info": {
   "codemirror_mode": {
    "name": "ipython",
    "version": 3
   },
   "file_extension": ".py",
   "mimetype": "text/x-python",
   "name": "python",
   "nbconvert_exporter": "python",
   "pygments_lexer": "ipython3",
   "version": "3.11.7"
  }
 },
 "nbformat": 4,
 "nbformat_minor": 5
}
